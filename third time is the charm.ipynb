{
 "cells": [
  {
   "cell_type": "code",
   "execution_count": 1,
   "metadata": {},
   "outputs": [
    {
     "name": "stderr",
     "output_type": "stream",
     "text": [
      "\n",
      "Attaching package: ‘dplyr’\n",
      "\n",
      "The following objects are masked from ‘package:stats’:\n",
      "\n",
      "    filter, lag\n",
      "\n",
      "The following objects are masked from ‘package:base’:\n",
      "\n",
      "    intersect, setdiff, setequal, union\n",
      "\n"
     ]
    }
   ],
   "source": [
    "library(\"dplyr\")\n",
    "\n",
    "linearModelFromRow <- function(row) {\n",
    "    \n",
    "    observationsVector <- as.double(row)\n",
    "    alzheimersIndicatorVector <- rep(c(1,1,0,0,0,0,1,1), 5)\n",
    "    parkinsonsIndicatorVector <- rep(c(0,0,0,0,1,1,1,1), 5)\n",
    "    \n",
    "    nonNaIndices <- !is.na(observationsVector)\n",
    "    \n",
    "    observationsVector <- observationsVector[nonNaIndices]\n",
    "    alzheimersIndicatorVector <- alzheimersIndicatorVector[nonNaIndices]\n",
    "    parkinsonsIndicatorVector <- parkinsonsIndicatorVector[nonNaIndices]\n",
    "    \n",
    "    regressionDataFrame <- data.frame(Y=observationsVector, X1=alzheimersIndicatorVector, X2=parkinsonsIndicatorVector)\n",
    "\n",
    "    linearModel <- lm(Y ~ X1 + X2 + X1:X2, data=regressionDataFrame)\n",
    "    \n",
    "    coefficients <- linearModel$coefficients\n",
    "    names(coefficients) <- NULL\n",
    "    \n",
    "    return(coefficients)\n",
    "}"
   ]
  },
  {
   "cell_type": "code",
   "execution_count": 2,
   "metadata": {},
   "outputs": [],
   "source": [
    "load(\"data/TMT_Summary_Data.RData\")"
   ]
  },
  {
   "cell_type": "code",
   "execution_count": 3,
   "metadata": {},
   "outputs": [],
   "source": [
    "acgLength <- nrow(anteriorCingulateGyrus_batches)\n",
    "\n",
    "acgCoefficients <- data.frame(double(length=acgLength), double(length=acgLength),\n",
    "                                  double(length=acgLength), double(length=acgLength))\n",
    "\n",
    "for (index in 1:acgLength) {\n",
    "    acgCoefficients[index, ] <- linearModelFromRow(anteriorCingulateGyrus_batches[index, 2:41])}\n",
    "\n",
    "colnames(acgCoefficients) <- c(\"Intercept\", \"Alzheimer\", \"Parkinson\", \"Interaction\")\n",
    "\n",
    "anteriorCingulateGyrus_coefficients <- bind_cols(anteriorCingulateGyrus_batches[, 1], acgCoefficients)"
   ]
  },
  {
   "cell_type": "code",
   "execution_count": 4,
   "metadata": {},
   "outputs": [],
   "source": [
    "fcLength <- nrow(frontalCortex_batches)\n",
    "\n",
    "fcCoefficients <- data.frame(double(length=fcLength), double(length=fcLength),\n",
    "                            double(length=fcLength), double(length=fcLength))\n",
    "\n",
    "for (index in 1:fcLength) {\n",
    "    fcCoefficients[index, ] <- linearModelFromRow(frontalCortex_batches[index, 2:41])}\n",
    "\n",
    "colnames(fcCoefficients) <- c(\"Intercept\", \"Alzheimer\", \"Parkinson\", \"Interaction\")\n",
    "\n",
    "frontalCortex_coefficients <- bind_cols(frontalCortex_batches[, 1], fcCoefficients)"
   ]
  },
  {
   "cell_type": "code",
   "execution_count": 5,
   "metadata": {},
   "outputs": [],
   "source": [
    "acgInterceptDistances   <- dist(anteriorCingulateGyrus_coefficients$Intercept,   method=\"manhattan\")\n",
    "acgAlzheimerDistances   <- dist(anteriorCingulateGyrus_coefficients$Alzheimer,   method=\"manhattan\")\n",
    "acgParkinsonDistances   <- dist(anteriorCingulateGyrus_coefficients$Parkinson,   method=\"manhattan\")\n",
    "acgInteractionDistances <- dist(anteriorCingulateGyrus_coefficients$Interaction, method=\"manhattan\")"
   ]
  },
  {
   "cell_type": "code",
   "execution_count": 6,
   "metadata": {},
   "outputs": [],
   "source": [
    "fcInterceptDistances   <- dist(frontalCortex_coefficients$Intercept,   method=\"manhattan\")\n",
    "fcAlzheimerDistances   <- dist(frontalCortex_coefficients$Alzheimer,   method=\"manhattan\")\n",
    "fcParkinsonDistances   <- dist(frontalCortex_coefficients$Parkinson,   method=\"manhattan\")\n",
    "fcInteractionDistances <- dist(frontalCortex_coefficients$Interaction, method=\"manhattan\")"
   ]
  }
 ],
 "metadata": {
  "kernelspec": {
   "display_name": "R",
   "language": "R",
   "name": "ir"
  },
  "language_info": {
   "codemirror_mode": "r",
   "file_extension": ".r",
   "mimetype": "text/x-r-source",
   "name": "R",
   "pygments_lexer": "r",
   "version": "3.4.1"
  }
 },
 "nbformat": 4,
 "nbformat_minor": 2
}
