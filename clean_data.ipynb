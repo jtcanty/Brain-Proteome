{
 "cells": [
  {
   "cell_type": "code",
   "execution_count": null,
   "metadata": {},
   "outputs": [],
   "source": [
    "library(\"readxl\")\n",
    "library(\"dplyr\")"
   ]
  },
  {
   "cell_type": "code",
   "execution_count": null,
   "metadata": {},
   "outputs": [],
   "source": [
    "excel_sheets(\"data/TMT_Summary_Data.xlsx\")"
   ]
  },
  {
   "cell_type": "code",
   "execution_count": null,
   "metadata": {},
   "outputs": [],
   "source": [
    "frontalCortex_accessions <- read_excel(\"data/TMT_Summary_Data.xlsx\", range=\"A3:A10103\", sheet=\"frontal cortex\")"
   ]
  },
  {
   "cell_type": "code",
   "execution_count": null,
   "metadata": {},
   "outputs": [],
   "source": [
    "frontalCortex_batch1 <- read_excel(\"data/TMT_Summary_Data.xlsx\", range=\"G3:N10103\",   sheet=\"frontal cortex\")\n",
    "frontalCortex_batch2 <- read_excel(\"data/TMT_Summary_Data.xlsx\", range=\"O3:V10103\",   sheet=\"frontal cortex\")\n",
    "frontalCortex_batch3 <- read_excel(\"data/TMT_Summary_Data.xlsx\", range=\"W3:AD10103\",  sheet=\"frontal cortex\")\n",
    "frontalCortex_batch4 <- read_excel(\"data/TMT_Summary_Data.xlsx\", range=\"AE3:AL10103\", sheet=\"frontal cortex\")\n",
    "frontalCortex_batch5 <- read_excel(\"data/TMT_Summary_Data.xlsx\", range=\"AM3:AT10103\", sheet=\"frontal cortex\")"
   ]
  },
  {
   "cell_type": "code",
   "execution_count": null,
   "metadata": {},
   "outputs": [],
   "source": [
    "frontalCortex_batch1 <- bind_cols(frontalCortex_accessions, frontalCortex_batch1)\n",
    "frontalCortex_batch2 <- bind_cols(frontalCortex_accessions, frontalCortex_batch2)\n",
    "frontalCortex_batch3 <- bind_cols(frontalCortex_accessions, frontalCortex_batch3)\n",
    "frontalCortex_batch4 <- bind_cols(frontalCortex_accessions, frontalCortex_batch4)\n",
    "frontalCortex_batch5 <- bind_cols(frontalCortex_accessions, frontalCortex_batch5)"
   ]
  },
  {
   "cell_type": "code",
   "execution_count": null,
   "metadata": {},
   "outputs": [],
   "source": [
    "anteriorCingulateGyrus_accessions <- read_excel(\"data/TMT_Summary_Data.xlsx\", range=\"A3:A10698\", sheet=\"anterior cingulate gyrus\")"
   ]
  },
  {
   "cell_type": "code",
   "execution_count": null,
   "metadata": {},
   "outputs": [],
   "source": [
    "anteriorCingulateGyrus_batch1 <- read_excel(\"data/TMT_Summary_Data.xlsx\", range=\"G3:N10698\",   sheet=\"anterior cingulate gyrus\")\n",
    "anteriorCingulateGyrus_batch2 <- read_excel(\"data/TMT_Summary_Data.xlsx\", range=\"O3:V10698\",   sheet=\"anterior cingulate gyrus\")\n",
    "anteriorCingulateGyrus_batch3 <- read_excel(\"data/TMT_Summary_Data.xlsx\", range=\"W3:AD10698\",  sheet=\"anterior cingulate gyrus\")\n",
    "anteriorCingulateGyrus_batch4 <- read_excel(\"data/TMT_Summary_Data.xlsx\", range=\"AE3:AL10698\", sheet=\"anterior cingulate gyrus\")\n",
    "anteriorCingulateGyrus_batch5 <- read_excel(\"data/TMT_Summary_Data.xlsx\", range=\"AM3:AT10698\", sheet=\"anterior cingulate gyrus\")"
   ]
  },
  {
   "cell_type": "code",
   "execution_count": null,
   "metadata": {},
   "outputs": [],
   "source": [
    "anteriorCingulateGyrus_batch1 <- bind_cols(anteriorCingulateGyrus_accessions, anteriorCingulateGyrus_batch1)\n",
    "anteriorCingulateGyrus_batch2 <- bind_cols(anteriorCingulateGyrus_accessions, anteriorCingulateGyrus_batch2)\n",
    "anteriorCingulateGyrus_batch3 <- bind_cols(anteriorCingulateGyrus_accessions, anteriorCingulateGyrus_batch3)\n",
    "anteriorCingulateGyrus_batch4 <- bind_cols(anteriorCingulateGyrus_accessions, anteriorCingulateGyrus_batch4)\n",
    "anteriorCingulateGyrus_batch5 <- bind_cols(anteriorCingulateGyrus_accessions, anteriorCingulateGyrus_batch5)"
   ]
  },
  {
   "cell_type": "code",
   "execution_count": null,
   "metadata": {},
   "outputs": [],
   "source": [
    "save(frontalCortex_batch1, frontalCortex_batch2, frontalCortex_batch3, frontalCortex_batch4, frontalCortex_batch5,\n",
    "    anteriorCingulateGyrus_batch1, anteriorCingulateGyrus_batch2, anteriorCingulateGyrus_batch3, anteriorCingulateGyrus_batch4, anteriorCingulateGyrus_batch5,\n",
    "    file=\"data/TMT_Summary_Data.RData\")"
   ]
  }
 ],
 "metadata": {
  "kernelspec": {
   "display_name": "R",
   "language": "R",
   "name": "ir"
  },
  "language_info": {
   "codemirror_mode": "r",
   "file_extension": ".r",
   "mimetype": "text/x-r-source",
   "name": "R",
   "pygments_lexer": "r",
   "version": "3.4.1"
  }
 },
 "nbformat": 4,
 "nbformat_minor": 2
}
