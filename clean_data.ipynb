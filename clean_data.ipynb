{
 "cells": [
  {
   "cell_type": "code",
   "execution_count": 1,
   "metadata": {},
   "outputs": [
    {
     "name": "stderr",
     "output_type": "stream",
     "text": [
      "\n",
      "Attaching package: ‘dplyr’\n",
      "\n",
      "The following objects are masked from ‘package:stats’:\n",
      "\n",
      "    filter, lag\n",
      "\n",
      "The following objects are masked from ‘package:base’:\n",
      "\n",
      "    intersect, setdiff, setequal, union\n",
      "\n"
     ]
    }
   ],
   "source": [
    "library(\"readxl\")\n",
    "library(\"dplyr\")"
   ]
  },
  {
   "cell_type": "code",
   "execution_count": 2,
   "metadata": {},
   "outputs": [
    {
     "data": {
      "text/html": [
       "<ol class=list-inline>\n",
       "\t<li>'frontal cortex'</li>\n",
       "\t<li>'anterior cingulate gyrus'</li>\n",
       "\t<li>'Key'</li>\n",
       "</ol>\n"
      ],
      "text/latex": [
       "\\begin{enumerate*}\n",
       "\\item 'frontal cortex'\n",
       "\\item 'anterior cingulate gyrus'\n",
       "\\item 'Key'\n",
       "\\end{enumerate*}\n"
      ],
      "text/markdown": [
       "1. 'frontal cortex'\n",
       "2. 'anterior cingulate gyrus'\n",
       "3. 'Key'\n",
       "\n",
       "\n"
      ],
      "text/plain": [
       "[1] \"frontal cortex\"           \"anterior cingulate gyrus\"\n",
       "[3] \"Key\"                     "
      ]
     },
     "metadata": {},
     "output_type": "display_data"
    }
   ],
   "source": [
    "excel_sheets(\"data/TMT_Summary_Data.xlsx\")"
   ]
  },
  {
   "cell_type": "code",
   "execution_count": 3,
   "metadata": {},
   "outputs": [],
   "source": [
    "frontalCortex_accessions <- read_excel(\"data/TMT_Summary_Data.xlsx\", range=\"A3:A10103\", sheet=\"frontal cortex\")\n",
    "frontalCortex_batches <- read_excel(\"data/TMT_Summary_Data.xlsx\", range=\"G3:AT10103\",   sheet=\"frontal cortex\")\n",
    "\n",
    "frontalCortex_batches <- bind_cols(frontalCortex_accessions, frontalCortex_batches)\n",
    "frontalCortex_batches[frontalCortex_batches == 0] <- NA\n",
    "\n",
    "allMissingRows <- logical(length=nrow(frontalCortex_batches))\n",
    "\n",
    "for (i in 1:nrow(frontalCortex_batches)) {\n",
    "    if (all(is.na(frontalCortex_batches[i, 2:41]))) {\n",
    "        allMissingRows[i] <- TRUE\n",
    "    } else {allMissingRows[i] <- FALSE}}\n",
    "\n",
    "frontalCortex_batches <- frontalCortex_batches[!allMissingRows, ]"
   ]
  },
  {
   "cell_type": "code",
   "execution_count": 4,
   "metadata": {},
   "outputs": [],
   "source": [
    "anteriorCingulateGyrus_accessions <- read_excel(\"data/TMT_Summary_Data.xlsx\", range=\"A3:A10698\", sheet=\"anterior cingulate gyrus\")\n",
    "anteriorCingulateGyrus_batches <- read_excel(\"data/TMT_Summary_Data.xlsx\", range=\"G3:AT10698\",   sheet=\"anterior cingulate gyrus\")\n",
    "\n",
    "anteriorCingulateGyrus_batches <- bind_cols(anteriorCingulateGyrus_accessions, anteriorCingulateGyrus_batches)\n",
    "anteriorCingulateGyrus_batches[anteriorCingulateGyrus_batches == 0] <- NA\n",
    "\n",
    "allMissingRows <- logical(length=nrow(anteriorCingulateGyrus_batches))\n",
    "\n",
    "for (i in 1:nrow(anteriorCingulateGyrus_batches)) {\n",
    "    if (all(is.na(anteriorCingulateGyrus_batches[i, 2:41]))) {\n",
    "        allMissingRows[i] <- TRUE\n",
    "    } else {allMissingRows[i] <- FALSE}}\n",
    "\n",
    "anteriorCingulateGyrus_batches <- anteriorCingulateGyrus_batches[!allMissingRows, ]"
   ]
  },
  {
   "cell_type": "code",
   "execution_count": 5,
   "metadata": {},
   "outputs": [],
   "source": [
    "save(anteriorCingulateGyrus_batches, frontalCortex_batches,\n",
    "    file=\"data/TMT_Summary_Data.RData\")"
   ]
  }
 ],
 "metadata": {
  "kernelspec": {
   "display_name": "R",
   "language": "R",
   "name": "ir"
  },
  "language_info": {
   "codemirror_mode": "r",
   "file_extension": ".r",
   "mimetype": "text/x-r-source",
   "name": "R",
   "pygments_lexer": "r",
   "version": "3.4.1"
  }
 },
 "nbformat": 4,
 "nbformat_minor": 2
}
